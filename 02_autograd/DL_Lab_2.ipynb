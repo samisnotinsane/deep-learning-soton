{
 "cells": [
  {
   "cell_type": "markdown",
   "metadata": {},
   "source": [
    "# PyTorch AutoGrad"
   ]
  },
  {
   "cell_type": "code",
   "execution_count": 1,
   "metadata": {},
   "outputs": [],
   "source": [
    "from typing import Tuple\n",
    "import torch"
   ]
  },
  {
   "cell_type": "markdown",
   "metadata": {},
   "source": [
    "## Matrix Factorisation using Gradient Descent"
   ]
  },
  {
   "cell_type": "code",
   "execution_count": 2,
   "metadata": {},
   "outputs": [],
   "source": [
    "def gd_factorise_ad(A, rank, num_epochs=1000, lr=0.01):\n",
    "    m, n = A.shape # m x n matrix\n",
    "    Uh = torch.rand(m, rank, requires_grad=True) # m x r matrix\n",
    "    Vh = torch.rand(n, rank, requires_grad=True) # n x r matrix\n",
    "    for epoch in range(num_epochs):\n",
    "        input = A\n",
    "        pred = Uh @ Vh.T\n",
    "        # loss\n",
    "        loss = torch.nn.functional.mse_loss(input, pred, reduction='sum')\n",
    "        # backward pass\n",
    "        loss.backward()\n",
    "        # gradient descent\n",
    "        with torch.no_grad():\n",
    "            Uh.data = Uh.data - lr * Uh.grad.data\n",
    "            Vh.data = Vh.data - lr * Vh.grad.data\n",
    "            Uh.grad.data.zero_()\n",
    "            Vh.grad.data.zero_()\n",
    "    return Uh, Vh"
   ]
  },
  {
   "cell_type": "code",
   "execution_count": 3,
   "metadata": {},
   "outputs": [
    {
     "name": "stdout",
     "output_type": "stream",
     "text": [
      "A: tensor([[0.3374, 0.6005, 0.1735],\n",
      "        [3.3359, 0.0492, 1.8374],\n",
      "        [2.9407, 0.5301, 2.2620]])\n",
      "~A: tensor([[ 0.2245,  0.5212,  0.3592],\n",
      "        [ 3.2531, -0.0090,  1.9737],\n",
      "        [ 3.0378,  0.5983,  2.1023]], grad_fn=<MmBackward>)\n",
      "Reconstruction error: tensor(0.0135, grad_fn=<MseLossBackward>)\n"
     ]
    }
   ],
   "source": [
    "A = torch.tensor(\n",
    "    [[0.3374, 0.6005, 0.1735],\n",
    "     [3.3359, 0.0492, 1.8374],\n",
    "     [2.9407, 0.5301, 2.2620]]\n",
    ")\n",
    "\n",
    "U, V = gd_factorise_ad(A, rank=2, num_epochs=2000, lr=0.01)\n",
    "print('A:', A)\n",
    "print('~A:', U@V.T)\n",
    "reconstruct_loss = torch.nn.functional.mse_loss(A, (U@V.T))\n",
    "print('Reconstruction error:', reconstruct_loss)"
   ]
  },
  {
   "cell_type": "code",
   "execution_count": 4,
   "metadata": {},
   "outputs": [],
   "source": [
    "import pandas as pd"
   ]
  },
  {
   "cell_type": "code",
   "execution_count": 5,
   "metadata": {},
   "outputs": [
    {
     "data": {
      "text/plain": [
       "torch.Size([150, 4])"
      ]
     },
     "execution_count": 5,
     "metadata": {},
     "output_type": "execute_result"
    }
   ],
   "source": [
    "df = pd.read_csv('https://archive.ics.uci.edu/ml/machine-learning-databases/iris/iris.data',\n",
    "                 header=None)\n",
    "data = torch.tensor(df.iloc[:, [0,1,2,3]].values)\n",
    "data = data - data.mean(dim=0)\n",
    "data = data.type(torch.float32)\n",
    "# dtype=torch.float32\n",
    "data.shape"
   ]
  },
  {
   "cell_type": "code",
   "execution_count": 37,
   "metadata": {},
   "outputs": [
    {
     "name": "stdout",
     "output_type": "stream",
     "text": [
      "Reconstruction error: tensor(0.0254, grad_fn=<MseLossBackward>)\n"
     ]
    }
   ],
   "source": [
    "U, V = gd_factorise_ad(data, rank=2, num_epochs=2000, lr=0.01)\n",
    "# print('data:', A)\n",
    "# print('~data:', U@V.T)\n",
    "reconstruct_loss = torch.nn.functional.mse_loss(data, (U@V.T))\n",
    "print('Reconstruction error:', reconstruct_loss)"
   ]
  },
  {
   "cell_type": "code",
   "execution_count": 38,
   "metadata": {},
   "outputs": [
    {
     "name": "stdout",
     "output_type": "stream",
     "text": [
      "Reconstruction error: tensor(1.0201)\n"
     ]
    }
   ],
   "source": [
    "# truncated SVD\n",
    "U, S, V = torch.svd(data)\n",
    "S[(S.shape[0] - 1)] = 0\n",
    "reconstruct_loss = torch.nn.functional.mse_loss(data, (U@V.T))\n",
    "print('Reconstruction error:', reconstruct_loss)"
   ]
  },
  {
   "cell_type": "code",
   "execution_count": 39,
   "metadata": {},
   "outputs": [],
   "source": [
    "import matplotlib.pyplot as plt"
   ]
  },
  {
   "cell_type": "code",
   "execution_count": 40,
   "metadata": {},
   "outputs": [
    {
     "data": {
      "image/png": "[encoded data removed]",
      "text/plain": [
       "<Figure size 432x288 with 1 Axes>"
      ]
     },
     "metadata": {
      "needs_background": "light"
     },
     "output_type": "display_data"
    }
   ],
   "source": [
    "# SVD based PCA\n",
    "fig, ax = plt.subplots(figsize=(6,4))\n",
    "ax.scatter(U[:,0], U[:,1], alpha=.8, label='$U$')\n",
    "ax.set_xlabel('PC 1')\n",
    "ax.set_ylabel('PC 2')\n",
    "ax.grid(True)\n",
    "ax.legend(loc='upper right', frameon=True)\n",
    "plt.tight_layout()\n",
    "plt.savefig('svd_pca.png')"
   ]
  },
  {
   "cell_type": "code",
   "execution_count": 41,
   "metadata": {},
   "outputs": [],
   "source": [
    "# Grad based PCA\n",
    "U, V = gd_factorise_ad(data, rank=2, num_epochs=2000, lr=0.01)"
   ]
  },
  {
   "cell_type": "code",
   "execution_count": 42,
   "metadata": {},
   "outputs": [
    {
     "name": "stdout",
     "output_type": "stream",
     "text": [
      "Reconstruction error: tensor(0.0254, grad_fn=<MseLossBackward>)\n"
     ]
    }
   ],
   "source": [
    "# if we don't detach, matplotlib won't plot\n",
    "U = U.detach()\n",
    "\n",
    "reconstruct_loss = torch.nn.functional.mse_loss(data, (U@V.T))\n",
    "print('Reconstruction error:', reconstruct_loss)"
   ]
  },
  {
   "cell_type": "code",
   "execution_count": 44,
   "metadata": {
    "scrolled": true
   },
   "outputs": [
    {
     "data": {
      "image/png": "[encoded data removed]",
      "text/plain": [
       "<Figure size 432x288 with 1 Axes>"
      ]
     },
     "metadata": {
      "needs_background": "light"
     },
     "output_type": "display_data"
    }
   ],
   "source": [
    "\n",
    "fig, ax = plt.subplots(figsize=(6,4))\n",
    "ax.scatter(U[:,0], U[:,1], alpha=.8, label='$\\hat{U}$')\n",
    "ax.set_xlabel('PC 1')\n",
    "ax.set_ylabel('PC 2')\n",
    "ax.grid(True)\n",
    "ax.legend(loc='upper right', frameon=True)\n",
    "plt.tight_layout()\n",
    "plt.savefig('gd_pca.png')"
   ]
  },
  {
   "cell_type": "markdown",
   "metadata": {},
   "source": [
    "## A simple Multi-layer Perceptron"
   ]
  },
  {
   "cell_type": "code",
   "execution_count": 271,
   "metadata": {},
   "outputs": [],
   "source": [
    "import torch\n",
    "import pandas as pd\n",
    "import matplotlib.pyplot as plt"
   ]
  },
  {
   "cell_type": "code",
   "execution_count": 2,
   "metadata": {},
   "outputs": [],
   "source": [
    "data_url = 'https://archive.ics.uci.edu/ml/machine-learning-databases/iris/iris.data'\n",
    "df = pd.read_csv(data_url, header=None)\n",
    "df = df.sample(frac=1) # shuffle / 100% random sample with replacement"
   ]
  },
  {
   "cell_type": "code",
   "execution_count": 3,
   "metadata": {},
   "outputs": [
    {
     "data": {
      "text/plain": [
       "array(['Iris-versicolor', 'Iris-setosa', 'Iris-virginica'], dtype=object)"
      ]
     },
     "execution_count": 3,
     "metadata": {},
     "output_type": "execute_result"
    }
   ],
   "source": [
    "df[4].unique()"
   ]
  },
  {
   "cell_type": "code",
   "execution_count": 4,
   "metadata": {},
   "outputs": [],
   "source": [
    "# add label indices column\n",
    "mapping = {k: v for v, k in enumerate(df[4].unique())}\n",
    "df[5] = df[4].map(mapping)"
   ]
  },
  {
   "cell_type": "code",
   "execution_count": 12,
   "metadata": {},
   "outputs": [],
   "source": [
    "# normalise data\n",
    "alldata = torch.tensor(df.iloc[:, [0,1,2,3]].values, dtype=torch.float)\n",
    "alldata = (alldata - alldata.mean(dim=0)) / alldata.var(dim=0)"
   ]
  },
  {
   "cell_type": "code",
   "execution_count": 91,
   "metadata": {},
   "outputs": [],
   "source": [
    "# create datasets\n",
    "targets_tr = torch.tensor(df.iloc[:100, 5].values, dtype=torch.long)\n",
    "targets_va = torch.tensor(df.iloc[100:, 5].values, dtype=torch.long) \n",
    "data_tr = alldata[:100] # training\n",
    "data_va = alldata[100:] # validation"
   ]
  },
  {
   "cell_type": "code",
   "execution_count": 139,
   "metadata": {},
   "outputs": [],
   "source": [
    "from tqdm.auto import tqdm"
   ]
  },
  {
   "cell_type": "code",
   "execution_count": 204,
   "metadata": {},
   "outputs": [],
   "source": [
    "def eval_accuracy(predictions, labels):\n",
    "    return ((torch.eq(predictions, labels).sum() / labels.shape[0]) * 100).item()"
   ]
  },
  {
   "cell_type": "code",
   "execution_count": 212,
   "metadata": {},
   "outputs": [],
   "source": [
    "def mlp_predict(X, W1, W2, b1, b2):\n",
    "    h1_linear = X @ W1 + b1\n",
    "    h1 = torch.relu(h1_linear)\n",
    "    h2_linear = h1 @ W2 + b2\n",
    "    output = torch.relu(h2_linear)\n",
    "    predictions = torch.argmax(output, dim=1) # for each row, which col has highest idx?\n",
    "    return predictions"
   ]
  },
  {
   "cell_type": "code",
   "execution_count": 273,
   "metadata": {},
   "outputs": [],
   "source": [
    "def mlp_train(X_train, y_train, X_test, y_test, epochs=1000, lr=0.01):\n",
    "    print('Multi-layer perceptron:')\n",
    "    print('  learning_rate:', lr)\n",
    "    print('  epochs:', epochs)\n",
    "    print('  X_train.shape:', X_train.shape)\n",
    "    print('  y_train.shape:', y_train.shape)\n",
    "    print('  X_test.shape:', X_test.shape)\n",
    "    print('  y_test.shape:', y_test.shape)\n",
    "    print('---------------------------------')\n",
    "    \n",
    "    # initialise weights\n",
    "    W1 = torch.randn(4,12, requires_grad=True)\n",
    "    W2 = torch.randn(12,3, requires_grad=True)\n",
    "\n",
    "    # initialise bias\n",
    "    b1 = torch.zeros(1)\n",
    "    b2 = torch.zeros(1)\n",
    "    \n",
    "    # record loss over epoch\n",
    "    losses = []\n",
    "    \n",
    "    # record training accuracy over epoch\n",
    "    train_accuracy = []\n",
    "    # record validation accuracy over epoch\n",
    "    valid_accuracy = []\n",
    "    \n",
    "    print('Training model, please wait...')\n",
    "    for epoch in tqdm(range(epochs)):\n",
    "        # first hidden layer\n",
    "        h1_linear = X_train @ W1 + b1\n",
    "        h1 = torch.relu(h1_linear)\n",
    "        # output layer\n",
    "        h2_linear = h1 @ W2 + b2\n",
    "        output = torch.relu(h2_linear)\n",
    "        # loss\n",
    "        loss = torch.nn.functional.cross_entropy(output, y_train) # softmax_cross_entropy\n",
    "        # backprop\n",
    "        loss.backward()\n",
    "        # prevent pytorch from creating computational graph\n",
    "        with torch.no_grad():\n",
    "            # update weights using gradient descent\n",
    "            W1.data = W1.data - lr * W1.grad.data\n",
    "            W2.data = W2.data - lr * W2.grad.data\n",
    "            # manually zero gradients after backward pass\n",
    "            W1.grad.zero_()\n",
    "            W2.grad.zero_()\n",
    "        # track loss over epochs\n",
    "        losses.append(loss.item())\n",
    "        # track train accuracy over epochs\n",
    "        pred = mlp_predict(X_train, W1, W2, b1, b2)\n",
    "        acc = eval_accuracy(pred, y_train)\n",
    "        train_accuracy.append(acc)\n",
    "        pred_v = mlp_predict(X_test, W1, W2, b1, b2)\n",
    "        acc_v = eval_accuracy(pred_v, y_test)\n",
    "        valid_accuracy.append(acc_v)\n",
    "        \n",
    "\n",
    "    # test set loss\n",
    "    h1_linear = X_test @ W1 + b1\n",
    "    h1 = torch.relu(h1_linear)\n",
    "    h2_linear = h1 @ W2 + b2\n",
    "    output = torch.relu(h2_linear)\n",
    "    predictions = torch.argmax(output, dim=1) # for each row, which col has highest idx?\n",
    "    accuracy = eval_accuracy(predictions, y_test)\n",
    "    print(f'Train accuracy: {acc}%')\n",
    "    print(f'Validation accuracy: {accuracy}%')\n",
    "    return output, predictions, train_accuracy, valid_accuracy, losses"
   ]
  },
  {
   "cell_type": "code",
   "execution_count": 278,
   "metadata": {
    "scrolled": false
   },
   "outputs": [
    {
     "name": "stdout",
     "output_type": "stream",
     "text": [
      "Multi-layer perceptron:\n",
      "  learning_rate: 0.01\n",
      "  epochs: 1000\n",
      "  X_train.shape: torch.Size([100, 4])\n",
      "  y_train.shape: torch.Size([100])\n",
      "  X_test.shape: torch.Size([50, 4])\n",
      "  y_test.shape: torch.Size([50])\n",
      "---------------------------------\n",
      "Training model, please wait...\n"
     ]
    },
    {
     "data": {
      "application/vnd.jupyter.widget-view+json": {
       "model_id": "7518256d2cf14d9c9c2703dbf4d30c6d",
       "version_major": 2,
       "version_minor": 0
      },
      "text/plain": [
       "  0%|          | 0/1000 [00:00<?, ?it/s]"
      ]
     },
     "metadata": {},
     "output_type": "display_data"
    },
    {
     "name": "stdout",
     "output_type": "stream",
     "text": [
      "Test accuracy: 87.0%\n",
      "Validation accuracy: 90.0%\n"
     ]
    }
   ],
   "source": [
    "score, pred, acc_train, acc_test, loss = mlp_train(data_tr, targets_tr, data_va, targets_va)"
   ]
  },
  {
   "cell_type": "code",
   "execution_count": 280,
   "metadata": {},
   "outputs": [
    {
     "data": {
      "image/png": "[encoded data removed]",
      "text/plain": [
       "<Figure size 864x360 with 2 Axes>"
      ]
     },
     "metadata": {
      "needs_background": "light"
     },
     "output_type": "display_data"
    }
   ],
   "source": [
    "epochs = 1000\n",
    "fig, ax = plt.subplots(ncols=2, figsize=(12,5))\n",
    "ax[0].plot(range(epochs), loss, label='Training Loss')\n",
    "ax[0].set_xlabel('Epoch')\n",
    "ax[0].set_ylabel('Loss')\n",
    "ax[0].grid(True)\n",
    "ax[0].legend(loc='best', frameon=True)\n",
    "\n",
    "ax[1].plot(range(epochs), acc_train, label='Training Accuracy')\n",
    "ax[1].plot(range(epochs), acc_test, label='Test Accuracy')\n",
    "ax[1].set_xlabel('Epoch')\n",
    "ax[1].set_ylabel('Accuracy %')\n",
    "ax[1].grid(True)\n",
    "ax[1].legend(loc='best', frameon=True)\n",
    "plt.savefig('mlp_loss_acc.png')"
   ]
  },
  {
   "cell_type": "code",
   "execution_count": 295,
   "metadata": {},
   "outputs": [
    {
     "data": {
      "text/plain": [
       "{0: 'Iris-versicolor', 1: 'Iris-setosa', 2: 'Iris-virginica'}"
      ]
     },
     "execution_count": 295,
     "metadata": {},
     "output_type": "execute_result"
    }
   ],
   "source": [
    "name_map = {k: v for k,v in enumerate(df[4].unique())}\n",
    "name_map"
   ]
  },
  {
   "cell_type": "code",
   "execution_count": 296,
   "metadata": {},
   "outputs": [
    {
     "data": {
      "text/plain": [
       "['Iris-setosa',\n",
       " 'Iris-versicolor',\n",
       " 'Iris-virginica',\n",
       " 'Iris-virginica',\n",
       " 'Iris-virginica',\n",
       " 'Iris-virginica',\n",
       " 'Iris-setosa',\n",
       " 'Iris-versicolor',\n",
       " 'Iris-virginica',\n",
       " 'Iris-virginica',\n",
       " 'Iris-setosa',\n",
       " 'Iris-versicolor',\n",
       " 'Iris-virginica',\n",
       " 'Iris-virginica',\n",
       " 'Iris-virginica',\n",
       " 'Iris-versicolor',\n",
       " 'Iris-setosa',\n",
       " 'Iris-virginica',\n",
       " 'Iris-setosa',\n",
       " 'Iris-virginica',\n",
       " 'Iris-virginica',\n",
       " 'Iris-virginica',\n",
       " 'Iris-setosa',\n",
       " 'Iris-versicolor',\n",
       " 'Iris-virginica',\n",
       " 'Iris-setosa',\n",
       " 'Iris-setosa',\n",
       " 'Iris-virginica',\n",
       " 'Iris-virginica',\n",
       " 'Iris-virginica',\n",
       " 'Iris-versicolor',\n",
       " 'Iris-virginica',\n",
       " 'Iris-virginica',\n",
       " 'Iris-versicolor',\n",
       " 'Iris-setosa',\n",
       " 'Iris-versicolor',\n",
       " 'Iris-setosa',\n",
       " 'Iris-versicolor',\n",
       " 'Iris-setosa',\n",
       " 'Iris-versicolor',\n",
       " 'Iris-virginica',\n",
       " 'Iris-setosa',\n",
       " 'Iris-versicolor',\n",
       " 'Iris-setosa',\n",
       " 'Iris-versicolor',\n",
       " 'Iris-virginica',\n",
       " 'Iris-virginica',\n",
       " 'Iris-versicolor',\n",
       " 'Iris-virginica',\n",
       " 'Iris-versicolor']"
      ]
     },
     "execution_count": 296,
     "metadata": {},
     "output_type": "execute_result"
    }
   ],
   "source": [
    "named_pred = list(map((lambda x: name_map[x.item()]), pred))\n",
    "named_pred"
   ]
  },
  {
   "cell_type": "markdown",
   "metadata": {},
   "source": [
    "### Misc."
   ]
  },
  {
   "cell_type": "code",
   "execution_count": 177,
   "metadata": {},
   "outputs": [
    {
     "name": "stdout",
     "output_type": "stream",
     "text": [
      "tensor([[ 0.9836, -1.0120],\n",
      "        [-2.3395,  2.5188],\n",
      "        [ 0.4811, -0.0348],\n",
      "        [ 0.5498, -0.0421]])\n"
     ]
    },
    {
     "data": {
      "text/plain": [
       "tensor([0, 1, 0, 0])"
      ]
     },
     "execution_count": 177,
     "metadata": {},
     "output_type": "execute_result"
    }
   ],
   "source": [
    "a = torch.randn(4,2)\n",
    "print(a)\n",
    "torch.argmax(a, dim=1)"
   ]
  },
  {
   "cell_type": "code",
   "execution_count": 114,
   "metadata": {},
   "outputs": [
    {
     "data": {
      "text/plain": [
       "{'a': 2, 'b': 4, 'c': 6, 'd': 8}"
      ]
     },
     "execution_count": 114,
     "metadata": {},
     "output_type": "execute_result"
    }
   ],
   "source": [
    "# quick reminder on how Python dictionary comprehensions work\n",
    "dict1 = {'a': 1, 'b': 2, 'c': 3, 'd': 4}\n",
    "# dict1.items()\n",
    "double_dict1 = {k:v*2 for (k,v) in dict1.items()}\n",
    "double_dict1"
   ]
  },
  {
   "cell_type": "code",
   "execution_count": 115,
   "metadata": {},
   "outputs": [
    {
     "data": {
      "text/plain": [
       "{'a': 0, 'b': 1, 'c': 2, 'd': 3}"
      ]
     },
     "execution_count": 115,
     "metadata": {},
     "output_type": "execute_result"
    }
   ],
   "source": [
    "{k:v for v,k in enumerate(double_dict1)}"
   ]
  }
 ],
 "metadata": {
  "kernelspec": {
   "display_name": "Python 3",
   "language": "python",
   "name": "python3"
  },
  "language_info": {
   "codemirror_mode": {
    "name": "ipython",
    "version": 3
   },
   "file_extension": ".py",
   "mimetype": "text/x-python",
   "name": "python",
   "nbconvert_exporter": "python",
   "pygments_lexer": "ipython3",
   "version": "3.8.5"
  }
 },
 "nbformat": 4,
 "nbformat_minor": 2
}
