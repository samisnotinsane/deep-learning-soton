{
 "cells": [
  {
   "cell_type": "code",
   "execution_count": null,
   "metadata": {
    "id": "xwTt6V316AT4"
   },
   "outputs": [],
   "source": [
    "from typing import Tuple\n",
    "import torch"
   ]
  },
  {
   "cell_type": "code",
   "execution_count": null,
   "metadata": {
    "id": "jqWzTyZz-6g1"
   },
   "outputs": [],
   "source": [
    "def sgd_factorise(A: torch.Tensor, rank: int, num_epochs=1000, lr=0.01) -> Tuple[torch.Tensor, torch.Tensor]:\n",
    "  m,n = A.shape\n",
    "  u_hat = torch.rand(m, rank)\n",
    "  v_hat = torch.rand(n, rank)\n",
    "  err = torch.rand(num_epochs)\n",
    "  for epoch in range(num_epochs):\n",
    "    for r in range(m):\n",
    "      for c in range(n):\n",
    "        e = A[r][c] - u_hat[r] @ v_hat[c].T\n",
    "        u_hat[r] = u_hat[r] + lr * e * v_hat[c]\n",
    "        v_hat[c] = v_hat[c] + lr * e * u_hat[r]\n",
    "    err[epoch] = e\n",
    "  return (u_hat, v_hat, err)"
   ]
  },
  {
   "cell_type": "code",
   "execution_count": null,
   "metadata": {
    "id": "gJX1O4HiNyw7"
   },
   "outputs": [],
   "source": [
    "A = torch.tensor(\n",
    "    [[0.3374, 0.6005, 0.1735],\n",
    "     [3.3359, 0.0492, 1.8374],\n",
    "     [2.9407, 0.5301, 2.2620]]\n",
    ")"
   ]
  },
  {
   "cell_type": "code",
   "execution_count": null,
   "metadata": {
    "id": "o2EYwnnJ_oBU"
   },
   "outputs": [],
   "source": [
    "u, v, loss = sgd_factorise(A, rank=2)"
   ]
  },
  {
   "cell_type": "code",
   "execution_count": null,
   "metadata": {
    "colab": {
     "base_uri": "https://localhost:8080/",
     "height": 298
    },
    "id": "YxLqW-xDH_j5",
    "outputId": "97f366fc-08a6-4750-b232-2292fac7662f"
   },
   "outputs": [
    {
     "data": {
      "text/plain": [
       "Text(0.5, 1.0, 'Reconstruction Error')"
      ]
     },
     "execution_count": 38,
     "metadata": {
      "tags": []
     },
     "output_type": "execute_result"
    },
    {
     "data": {
      "image/png": "[encoded data removed]",
      "text/plain": [
       "<Figure size 432x288 with 1 Axes>"
      ]
     },
     "metadata": {
      "needs_background": "light",
      "tags": []
     },
     "output_type": "display_data"
    }
   ],
   "source": [
    "import matplotlib.pyplot as plt\n",
    "\n",
    "fig, ax = plt.subplots()\n",
    "ax.plot(loss)\n",
    "ax.set_title('Reconstruction Error')"
   ]
  },
  {
   "cell_type": "code",
   "execution_count": null,
   "metadata": {
    "colab": {
     "base_uri": "https://localhost:8080/"
    },
    "id": "Z9Aor-Cm_4ra",
    "outputId": "6b8ba353-7cb3-4bbe-caa2-b13854d2ec27"
   },
   "outputs": [
    {
     "data": {
      "text/plain": [
       "tensor(0.1222)"
      ]
     },
     "execution_count": 51,
     "metadata": {
      "tags": []
     },
     "output_type": "execute_result"
    }
   ],
   "source": [
    "inp = u@v.T\n",
    "my_loss = torch.nn.functional.mse_loss(input=inp, target=A, reduction='sum')\n",
    "my_loss"
   ]
  },
  {
   "cell_type": "code",
   "execution_count": null,
   "metadata": {
    "id": "BWrtC7-VFOjQ"
   },
   "outputs": [],
   "source": [
    "U, S, V = torch.svd(A)\n",
    "S[2] = 0\n",
    "\n",
    "A_approx = U @ torch.diag(S) @ V.T\n",
    "torch_loss = torch.nn.functional.mse_loss(A, A_approx, reduction='sum')"
   ]
  },
  {
   "cell_type": "code",
   "execution_count": null,
   "metadata": {
    "colab": {
     "base_uri": "https://localhost:8080/"
    },
    "id": "2Y3IIPR8Gn8e",
    "outputId": "fc89f71c-1145-4501-f123-5eca90b8dcb1"
   },
   "outputs": [
    {
     "data": {
      "text/plain": [
       "tensor(0.0003)"
      ]
     },
     "execution_count": 53,
     "metadata": {
      "tags": []
     },
     "output_type": "execute_result"
    }
   ],
   "source": [
    "torch.norm(my_loss - torch_loss)"
   ]
  },
  {
   "cell_type": "code",
   "execution_count": null,
   "metadata": {
    "id": "lTA4ANbXOwpg"
   },
   "outputs": [],
   "source": [
    "def sgd_factorise_masked(A: torch.tensor, M: torch.tensor, rank: int, num_epochs=1000, lr=0.01) -> Tuple[torch.Tensor, torch.Tensor]:\n",
    "  m,n = A.shape\n",
    "  u_hat = torch.rand(m, rank)\n",
    "  v_hat = torch.rand(n, rank)\n",
    "  for epoch in range(num_epochs):\n",
    "    for r in range(m):\n",
    "      for c in range(n):\n",
    "        if M[r,c] == 1:\n",
    "          e = A[r][c] - u_hat[r] @ v_hat[c].T\n",
    "          u_hat[r] = u_hat[r] + lr * e * v_hat[c]\n",
    "          v_hat[c] = v_hat[c] + lr * e * u_hat[r]\n",
    "  return u_hat, v_hat"
   ]
  },
  {
   "cell_type": "code",
   "execution_count": null,
   "metadata": {
    "colab": {
     "base_uri": "https://localhost:8080/"
    },
    "id": "C5ZloLYw59ne",
    "outputId": "7087d3a4-b853-4762-bdf0-35c8b2bd7186"
   },
   "outputs": [
    {
     "name": "stdout",
     "output_type": "stream",
     "text": [
      "U @ V.T:\n",
      " tensor([[0.3178, 0.0193, 0.2389],\n",
      "        [2.3164, 0.1244, 1.8325],\n",
      "        [2.9430, 0.1704, 2.2590]])\n",
      "LOS: tensor(5.7431)\n"
     ]
    }
   ],
   "source": [
    "A = torch.tensor(\n",
    "    [[0.3374, 0.6005, 0.1735],\n",
    "     [0, 0.0492, 1.8374],\n",
    "     [2.9407, 0, 2.2620]]\n",
    ")\n",
    "M = torch.tensor(\n",
    "    [[1,1,1],\n",
    "     [0,1,1],\n",
    "     [1,0,1]]\n",
    ")\n",
    "\n",
    "U, V = sgd_factorise_masked(A, M, 2)\n",
    "print('U @ V.T:\\n', U@V.T)\n",
    "LOS = torch.nn.functional.mse_loss(input=U@V.T, target=A, reduction='sum')\n",
    "print('LOS:', LOS)"
   ]
  },
  {
   "cell_type": "code",
   "execution_count": null,
   "metadata": {
    "id": "gHdVS95P_ZsJ"
   },
   "outputs": [],
   "source": []
  }
 ],
 "metadata": {
  "colab": {
   "collapsed_sections": [],
   "name": "DL-Lab-1.ipynb",
   "provenance": []
  },
  "kernelspec": {
   "display_name": "Python 3",
   "language": "python",
   "name": "python3"
  },
  "language_info": {
   "codemirror_mode": {
    "name": "ipython",
    "version": 3
   },
   "file_extension": ".py",
   "mimetype": "text/x-python",
   "name": "python",
   "nbconvert_exporter": "python",
   "pygments_lexer": "ipython3",
   "version": "3.8.5"
  }
 },
 "nbformat": 4,
 "nbformat_minor": 1
}
